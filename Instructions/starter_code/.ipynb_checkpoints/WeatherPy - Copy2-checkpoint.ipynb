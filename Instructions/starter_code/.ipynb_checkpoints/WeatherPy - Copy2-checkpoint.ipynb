{
 "cells": [
  {
   "cell_type": "markdown",
   "metadata": {},
   "source": [
    "# WeatherPy\n",
    "----\n",
    "\n",
    "#### Note\n",
    "* Instructions have been included for each segment. You do not have to follow them exactly, but they are included to help you think through the steps."
   ]
  },
  {
   "cell_type": "code",
   "execution_count": 1,
   "metadata": {
    "scrolled": true
   },
   "outputs": [
    {
     "ename": "ModuleNotFoundError",
     "evalue": "No module named 'citipy'",
     "output_type": "error",
     "traceback": [
      "\u001b[1;31m---------------------------------------------------------------------------\u001b[0m",
      "\u001b[1;31mModuleNotFoundError\u001b[0m                       Traceback (most recent call last)",
      "\u001b[1;32m<ipython-input-1-90b1768ebd7e>\u001b[0m in \u001b[0;36m<module>\u001b[1;34m\u001b[0m\n\u001b[0;32m     13\u001b[0m \u001b[1;33m\u001b[0m\u001b[0m\n\u001b[0;32m     14\u001b[0m \u001b[1;31m# Incorporated citipy to determine city based on latitude and longitude\u001b[0m\u001b[1;33m\u001b[0m\u001b[1;33m\u001b[0m\u001b[1;33m\u001b[0m\u001b[0m\n\u001b[1;32m---> 15\u001b[1;33m \u001b[1;32mfrom\u001b[0m \u001b[0mcitipy\u001b[0m \u001b[1;32mimport\u001b[0m \u001b[0mcitipy\u001b[0m\u001b[1;33m\u001b[0m\u001b[1;33m\u001b[0m\u001b[0m\n\u001b[0m\u001b[0;32m     16\u001b[0m \u001b[1;33m\u001b[0m\u001b[0m\n\u001b[0;32m     17\u001b[0m \u001b[1;31m# Output File (CSV)\u001b[0m\u001b[1;33m\u001b[0m\u001b[1;33m\u001b[0m\u001b[1;33m\u001b[0m\u001b[0m\n",
      "\u001b[1;31mModuleNotFoundError\u001b[0m: No module named 'citipy'"
     ]
    }
   ],
   "source": [
    "# Dependencies and Setup\n",
    "import matplotlib.pyplot as plt\n",
    "import pandas as pd\n",
    "import numpy as np\n",
    "import requests\n",
    "import time\n",
    "import scipy.stats as st\n",
    "from scipy.stats import linregress\n",
    "import json\n",
    "\n",
    "# Import API key\n",
    "from api_keys import weather_api_key\n",
    "\n",
    "# Incorporated citipy to determine city based on latitude and longitude\n",
    "from citipy import citipy\n",
    "\n",
    "# Output File (CSV)\n",
    "output_data_file = \"output_data/cities.csv\"\n",
    "\n",
    "# Range of latitudes and longitudes\n",
    "lat_range = (-90, 90)\n",
    "lng_range = (-180, 180)"
   ]
  },
  {
   "cell_type": "markdown",
   "metadata": {},
   "source": [
    "## Generate Cities List"
   ]
  },
  {
   "cell_type": "code",
   "execution_count": null,
   "metadata": {},
   "outputs": [],
   "source": [
    "# List for holding lat_lngs and cities\n",
    "lat_lngs = []\n",
    "cities = []\n",
    "\n",
    "# Create a set of random lat and lng combinations\n",
    "lats = np.random.uniform(low=-90.000, high=90.000, size=1500)\n",
    "lngs = np.random.uniform(low=-180.000, high=180.000, size=1500)\n",
    "lat_lngs = zip(lats, lngs)\n",
    "\n",
    "# Identify nearest city for each lat, lng combination\n",
    "for lat_lng in lat_lngs:\n",
    "    city = citipy.nearest_city(lat_lng[0], lat_lng[1]).city_name\n",
    "    \n",
    "    # If the city is unique, then add it to a our cities list\n",
    "    if city not in cities:\n",
    "        cities.append(city)\n",
    "\n",
    "# Print the city count to confirm sufficient count\n",
    "len(cities)"
   ]
  },
  {
   "cell_type": "markdown",
   "metadata": {},
   "source": [
    "### Perform API Calls\n",
    "* Perform a weather check on each city using a series of successive API calls.\n",
    "* Include a print log of each city as it'sbeing processed (with the city number and city name).\n"
   ]
  },
  {
   "cell_type": "code",
   "execution_count": null,
   "metadata": {},
   "outputs": [],
   "source": [
    "url = \"http://api.openweathermap.org/data/2.5/weather?\"\n",
    "query_url = f\"{url}appid={weather_api_key}&units=imperial&q=\" \n",
    "              \n",
    "for city in cities:\n",
    "    weather_response = requests.get(query_url + city).json()\n",
    "    try:\n",
    "        lat=response['coord']['lat']\n",
    "        lng=response['coord']['lon']\n",
    "        temperature=response['main']['temp']\n",
    "        humidity=response['main']['humidity']\n",
    "        wind_speed=response['wind']['speed']\n",
    "        cloudiness=response['clouds']['all']\n",
    "        name=response['name']\n",
    "        number=response['id']\n",
    "        #temp_max=response['main']['temp_max']\n",
    "        city_data.append({\"City\": city_name,\n",
    "                          \"Lat\": lat,\n",
    "                          \"Lng\": lng,\n",
    "                          \"Humidity\": humidity,\n",
    "                          \"Cloudiness\": cloudiness,\n",
    "                          \"Wind Speed\": wind_speed})\n",
    "        print(f\"The city is: {city_name}: {city_id}\")\n",
    "    except:\n",
    "        print(f\"The city is missing data. City skipped.\")"
   ]
  },
  {
   "cell_type": "markdown",
   "metadata": {},
   "source": [
    "### Convert Raw Data to DataFrame\n",
    "* Export the city data into a .csv.\n",
    "* Display the DataFrame"
   ]
  },
  {
   "cell_type": "code",
   "execution_count": null,
   "metadata": {},
   "outputs": [],
   "source": [
    "weather_dict = {\n",
    "    \"ID\": number,\n",
    "    \"city\": name,\n",
    "    \"lat\": lat,\n",
    "    \"lng\": lng,\n",
    "    \"temp\": temperature,\n",
    "    \"humidity\": humidity,\n",
    "    \"cloudiness\": cloudiness,\n",
    "    \"wind speed\": wind_speed\n",
    "}\n",
    "weather_data = pd.DataFrame(weather_dict)\n",
    "weather_data.head()\n",
    "\n"
   ]
  },
  {
   "cell_type": "code",
   "execution_count": null,
   "metadata": {},
   "outputs": [],
   "source": [
    "weather_data.to_csv(\"../output_data/cities.csv\")\n"
   ]
  },
  {
   "cell_type": "markdown",
   "metadata": {},
   "source": [
    "### Plotting the Data\n",
    "* Use proper labeling of the plots using plot titles (including date of analysis) and axes labels.\n",
    "* Save the plotted figures as .pngs."
   ]
  },
  {
   "cell_type": "markdown",
   "metadata": {},
   "source": [
    "#### Latitude vs. Temperature Plot"
   ]
  },
  {
   "cell_type": "code",
   "execution_count": null,
   "metadata": {},
   "outputs": [],
   "source": [
    "plt.scatter(lat, temperature, marker=\"o\", facecolors=\"red\", edgecolors=\"black\", alpha=0.75)\n",
    "plt.xlim(-90,90)\n",
    "plt.xlabel(\"Latitude\")\n",
    "plt.ylabel(\"Temperature (F))\")\n",
    "plt.title(\"Latitude vs. Temperature for \" + str(len(cities)) + \" Randomly Selected Cities\")\n",
    "plt.savefig(\"../output_data/'LatTemp.png\")\n",
    "plt.show()"
   ]
  },
  {
   "cell_type": "markdown",
   "metadata": {},
   "source": [
    "#### Latitude vs. Humidity Plot"
   ]
  },
  {
   "cell_type": "code",
   "execution_count": null,
   "metadata": {},
   "outputs": [],
   "source": [
    "plt.scatter(lat, humidity, marker=\"o\", facecolors=\"red\", edgecolors=\"black\", alpha=0.75)\n",
    "plt.xlabel(\"Latitude\")\n",
    "plt.ylabel(\"Humidiity\")\n",
    "plt.title(\"Latitude vs. Humidity for \" + str(len(cities)) + \" Randomly Selected Cities\")\n",
    "plt.savefig(\"../output_data/'LatHum.png\")\n",
    "plt.show()"
   ]
  },
  {
   "cell_type": "markdown",
   "metadata": {},
   "source": [
    "#### Latitude vs. Cloudiness Plot"
   ]
  },
  {
   "cell_type": "code",
   "execution_count": null,
   "metadata": {},
   "outputs": [],
   "source": [
    "plt.scatter(lat, cloudiness, marker=\"o\", facecolors=\"red\", edgecolors=\"black\", alpha=0.75)\n",
    "plt.xlabel(\"Latitude\")\n",
    "plt.ylabel(\"Cloudiness\")\n",
    "plt.title(\"Latitude vs. Cloudiness for \" + str(len(cities)) + \" Randomly Selected Cities\")\n",
    "plt.savefig('../output_data/LatCloud.png')\n",
    "plt.show()"
   ]
  },
  {
   "cell_type": "markdown",
   "metadata": {},
   "source": [
    "#### Latitude vs. Wind Speed Plot"
   ]
  },
  {
   "cell_type": "code",
   "execution_count": null,
   "metadata": {},
   "outputs": [],
   "source": [
    "plt.scatter(lat, wind_speed, marker=\"o\", facecolors=\"red\", edgecolors=\"black\", alpha=0.75)\n",
    "plt.xlabel(\"Latitude\")\n",
    "plt.ylabel(\"Wind Speed\")\n",
    "plt.title(\"Latitude vs. Wind Speed for \" + str(len(cities)) + \" Randomly Selected Cities\")\n",
    "plt.savefig('../output_data/LatWinSpe.png')\n",
    "plt.show()"
   ]
  },
  {
   "cell_type": "markdown",
   "metadata": {},
   "source": [
    "## Linear Regression"
   ]
  },
  {
   "cell_type": "code",
   "execution_count": null,
   "metadata": {},
   "outputs": [],
   "source": [
    "# OPTIONAL: Create a function to create Linear Regression plots\n"
   ]
  },
  {
   "cell_type": "code",
   "execution_count": null,
   "metadata": {},
   "outputs": [],
   "source": [
    "# Create Northern and Southern Hemisphere DataFrames\n",
    "north_data = weather_data.loc[weather_data[\"lat\"] > 0, :]\n",
    "north_data.head()\n",
    "south_data = weather_data.loc[weather_data['lat'] < 0, :]\n",
    "south_data.head()"
   ]
  },
  {
   "cell_type": "markdown",
   "metadata": {},
   "source": [
    "####  Northern Hemisphere - Max Temp vs. Latitude Linear Regression"
   ]
  },
  {
   "cell_type": "code",
   "execution_count": null,
   "metadata": {},
   "outputs": [],
   "source": [
    "tempN=north_data['temp']\n",
    "latN= north_data['lat']\n",
    "\n",
    "plt.scatter(tempN, latN, marker=\"o\", facecolors=\"green\", edgecolors=\"black\", alpha=0.75)\n",
    "plt.xlabel(\"Temperature (F)\")\n",
    "plt.ylabel(\"Latitude\")\n",
    "plt.ylim(-10,90)\n",
    "(slope, intercept, rvalue, pvalue, stderr) = st.linregress(tempN, latN)\n",
    "regress_values = tempN * slope + intercept\n",
    "line_eq = \"y = \" + str(round(slope,2)) + \"x + \" + str(round(intercept,2))\n",
    "plt.plot(tempN,regress_values,\"r-\")\n",
    "plt.annotate(line_eq,(-30,20),fontsize=15,color=\"red\")\n",
    "plt.title(\"Temperature vs. Latitude in the Northern Hemisphere\")\n",
    "plt.savefig('../output_data/TempLatN.png')\n",
    "plt.show()"
   ]
  },
  {
   "cell_type": "markdown",
   "metadata": {},
   "source": [
    "####  Southern Hemisphere - Max Temp vs. Latitude Linear Regression"
   ]
  },
  {
   "cell_type": "code",
   "execution_count": null,
   "metadata": {},
   "outputs": [],
   "source": [
    "tempS=south_data['temp']\n",
    "latS= south_data['lat']\n",
    "\n",
    "plt.scatter(tempS, latS, marker=\"o\", facecolors=\"green\", edgecolors=\"black\", alpha=0.75)\n",
    "plt.xlabel(\"Temperature (F)\")\n",
    "plt.ylabel(\"Latitude\")\n",
    "plt.ylim(-90,10)\n",
    "(slope, intercept, rvalue, pvalue, stderr) = st.linregress(tempS, latS)\n",
    "regress_values = tempS * slope + intercept\n",
    "line_eq = \"y = \" + str(round(slope,2)) + \"x + \" + str(round(intercept,2))\n",
    "plt.plot(tempS,regress_values,\"r-\")\n",
    "plt.annotate(line_eq,(80,-50),fontsize=15,color=\"red\")\n",
    "plt.title(\"Temperature vs. Latitude in the Southern Hemisphere\")\n",
    "plt.savefig('TempLatS.png')\n",
    "plt.show()"
   ]
  },
  {
   "cell_type": "markdown",
   "metadata": {},
   "source": [
    "####  Northern Hemisphere - Humidity (%) vs. Latitude Linear Regression"
   ]
  },
  {
   "cell_type": "code",
   "execution_count": null,
   "metadata": {},
   "outputs": [],
   "source": [
    "humN=north_data['humidity']\n",
    "latN=north_data['lat']\n",
    "\n",
    "plt.scatter(humN, latN, marker=\"o\", facecolors=\"green\", edgecolors=\"black\", alpha=0.75)\n",
    "plt.xlabel(\"Humidity (%)\")\n",
    "plt.ylabel(\"Latitude\")\n",
    "plt.ylim(-10,90)\n",
    "(slope, intercept, rvalue, pvalue, stderr) = st.linregress(humN, latN)\n",
    "regress_values = humN * slope + intercept\n",
    "line_eq = \"y = \" + str(round(slope,2)) + \"x + \" + str(round(intercept,2))\n",
    "plt.plot(humN,regress_values,\"r-\")\n",
    "plt.annotate(line_eq,(10,55),fontsize=15,color=\"red\")\n",
    "plt.title(\"Humidity vs. Latitude in the Northern Hemisphere\")\n",
    "plt.savefig('../output_data/HumLatN.png')\n",
    "plt.show()"
   ]
  },
  {
   "cell_type": "markdown",
   "metadata": {},
   "source": [
    "####  Southern Hemisphere - Humidity (%) vs. Latitude Linear Regression"
   ]
  },
  {
   "cell_type": "code",
   "execution_count": null,
   "metadata": {},
   "outputs": [],
   "source": [
    "HumS=south_data['humidity']\n",
    "latS= south_data['lat']\n",
    "\n",
    "plt.scatter(HumS, latS, marker=\"o\", facecolors=\"green\", edgecolors=\"black\", alpha=0.75)\n",
    "plt.xlabel(\"Humidity (%)\")\n",
    "plt.ylabel(\"Latitude\")\n",
    "plt.ylim(-90,10)\n",
    "(slope, intercept, rvalue, pvalue, stderr) = st.linregress(HumS, latS)\n",
    "regress_values = HumS * slope + intercept\n",
    "line_eq = \"y = \" + str(round(slope,2)) + \"x + \" + str(round(intercept,2))\n",
    "plt.plot(HumS,regress_values,\"r-\")\n",
    "plt.annotate(line_eq,(20,-70),fontsize=15,color=\"red\")\n",
    "plt.title(\"Humidity vs. Latitude in the Southern Hemisphere\")\n",
    "plt.savefig('../output_data/HumLatS.png')\n",
    "plt.show()"
   ]
  },
  {
   "cell_type": "markdown",
   "metadata": {},
   "source": [
    "####  Northern Hemisphere - Cloudiness (%) vs. Latitude Linear Regression"
   ]
  },
  {
   "cell_type": "code",
   "execution_count": null,
   "metadata": {},
   "outputs": [],
   "source": [
    "CloudN=north_data['cloudiness']\n",
    "latN=north_data['lat']\n",
    "\n",
    "plt.scatter(CloudN, latN, marker=\"o\", facecolors=\"green\", edgecolors=\"black\", alpha=0.75)\n",
    "plt.xlabel(\"Cloudiness (%)\")\n",
    "plt.ylabel(\"Latitude\")\n",
    "plt.ylim(-10,90)\n",
    "(slope, intercept, rvalue, pvalue, stderr) = st.linregress(CloudN, latN)\n",
    "regress_values = CloudN * slope + intercept\n",
    "line_eq = \"y = \" + str(round(slope,2)) + \"x + \" + str(round(intercept,2))\n",
    "plt.plot(CloudN,regress_values,\"r-\")\n",
    "plt.annotate(line_eq,(45,80),fontsize=15,color=\"red\")\n",
    "plt.title(\"Cloudiness vs. Latitude in the Northern Hemisphere\")\n",
    "plt.savefig('../output_data/CloudLatN.png')\n",
    "plt.show()"
   ]
  },
  {
   "cell_type": "markdown",
   "metadata": {},
   "source": [
    "####  Southern Hemisphere - Cloudiness (%) vs. Latitude Linear Regression"
   ]
  },
  {
   "cell_type": "code",
   "execution_count": null,
   "metadata": {},
   "outputs": [],
   "source": [
    "CloudS=south_data['cloudiness']\n",
    "latS= south_data['lat']\n",
    "\n",
    "plt.scatter(HumS, latS, marker=\"o\", facecolors=\"green\", edgecolors=\"black\", alpha=0.75)\n",
    "plt.xlabel(\"Cloudiness (%)\")\n",
    "plt.ylabel(\"Latitude\")\n",
    "plt.ylim(-90,10)\n",
    "(slope, intercept, rvalue, pvalue, stderr) = st.linregress(CloudS, latS)\n",
    "regress_values = CloudS * slope + intercept\n",
    "line_eq = \"y = \" + str(round(slope,2)) + \"x + \" + str(round(intercept,2))\n",
    "plt.plot(CloudS,regress_values,\"r-\")\n",
    "plt.annotate(line_eq,(20,-70),fontsize=15,color=\"red\")\n",
    "plt.title(\"Cloudiness vs. Latitude in the Southern Hemisphere\")\n",
    "plt.savefig('../output_data/CloudLatS.png')\n",
    "plt.show()"
   ]
  },
  {
   "cell_type": "markdown",
   "metadata": {},
   "source": [
    "####  Northern Hemisphere - Wind Speed (mph) vs. Latitude Linear Regression"
   ]
  },
  {
   "cell_type": "code",
   "execution_count": null,
   "metadata": {},
   "outputs": [],
   "source": [
    "WinS=north_data['wind speed']\n",
    "latN=north_data['lat']\n",
    "\n",
    "plt.scatter(WinS, latN, marker=\"o\", facecolors=\"green\", edgecolors=\"black\", alpha=0.75)\n",
    "plt.xlabel(\"Wind Speed (mph??????)\")\n",
    "plt.ylabel(\"Latitude\")\n",
    "plt.ylim(-10,90)\n",
    "(slope, intercept, rvalue, pvalue, stderr) = st.linregress(WinS, latN)\n",
    "regress_values = WinS * slope + intercept\n",
    "line_eq = \"y = \" + str(round(slope,2)) + \"x + \" + str(round(intercept,2))\n",
    "plt.plot(WinS,regress_values,\"r-\")\n",
    "plt.annotate(line_eq,(45,80),fontsize=15,color=\"red\")\n",
    "plt.title(\"Wind Speed vs. Latitude in the Northern Hemisphere\")\n",
    "plt.savefig('../output_data/WinLatN.png')\n",
    "plt.show()"
   ]
  },
  {
   "cell_type": "markdown",
   "metadata": {},
   "source": [
    "####  Southern Hemisphere - Wind Speed (mph) vs. Latitude Linear Regression"
   ]
  },
  {
   "cell_type": "code",
   "execution_count": null,
   "metadata": {},
   "outputs": [],
   "source": [
    "WinS=south_data['wind speed']\n",
    "latS= south_data['lat']\n",
    "\n",
    "plt.scatter(WinS, latS, marker=\"o\", facecolors=\"green\", edgecolors=\"black\", alpha=0.75)\n",
    "plt.xlabel(\"Wind Speed (mph??????)\")\n",
    "plt.ylabel(\"Latitude\")\n",
    "plt.ylim(-90,10)\n",
    "(slope, intercept, rvalue, pvalue, stderr) = st.linregress(WinS, latS)\n",
    "regress_values = WinS * slope + intercept\n",
    "line_eq = \"y = \" + str(round(slope,2)) + \"x + \" + str(round(intercept,2))\n",
    "plt.plot(WinS,regress_values,\"r-\")\n",
    "plt.annotate(line_eq,(5,-70),fontsize=15,color=\"red\")\n",
    "plt.title(\"Wind Speed vs. Latitude in the Southern Hemisphere\")\n",
    "plt.savefig('../output_data/WinLatS.png')\n",
    "plt.show()"
   ]
  },
  {
   "cell_type": "code",
   "execution_count": null,
   "metadata": {},
   "outputs": [],
   "source": []
  }
 ],
 "metadata": {
  "anaconda-cloud": {},
  "kernel_info": {
   "name": "python3"
  },
  "kernelspec": {
   "display_name": "Python 3",
   "language": "python",
   "name": "python3"
  },
  "language_info": {
   "codemirror_mode": {
    "name": "ipython",
    "version": 3
   },
   "file_extension": ".py",
   "mimetype": "text/x-python",
   "name": "python",
   "nbconvert_exporter": "python",
   "pygments_lexer": "ipython3",
   "version": "3.7.4"
  },
  "latex_envs": {
   "LaTeX_envs_menu_present": true,
   "autoclose": false,
   "autocomplete": true,
   "bibliofile": "biblio.bib",
   "cite_by": "apalike",
   "current_citInitial": 1,
   "eqLabelWithNumbers": true,
   "eqNumInitial": 1,
   "hotkeys": {
    "equation": "Ctrl-E",
    "itemize": "Ctrl-I"
   },
   "labels_anchors": false,
   "latex_user_defs": false,
   "report_style_numbering": false,
   "user_envs_cfg": false
  },
  "nteract": {
   "version": "0.12.3"
  }
 },
 "nbformat": 4,
 "nbformat_minor": 2
}
